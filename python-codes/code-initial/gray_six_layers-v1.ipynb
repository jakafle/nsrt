{
 "cells": [
  {
   "cell_type": "code",
   "execution_count": 129,
   "id": "3ed78831-99a1-4aff-9411-01e9082ec0f0",
   "metadata": {},
   "outputs": [],
   "source": [
    "import numpy as np\n",
    "import matplotlib.pyplot as plt"
   ]
  },
  {
   "cell_type": "code",
   "execution_count": 130,
   "id": "7469cf63-8392-4bfb-9f50-737391f56e1e",
   "metadata": {},
   "outputs": [],
   "source": [
    "def b(tau):\n",
    "    return (3/4)*1*(tau + 2/3)"
   ]
  },
  {
   "cell_type": "code",
   "execution_count": 161,
   "id": "ef7fd59d-2672-4300-a879-2f559e582fda",
   "metadata": {},
   "outputs": [],
   "source": [
    "mu = 0.5773502691896257\n",
    "deltau = 0.8\n",
    "\n",
    "mu2 = mu**2\n",
    "dt2 = deltau**2\n",
    "\n",
    "a = mu2/dt2\n",
    "d = 1 + (2*mu2)/dt2\n",
    "c = mu2/dt2\n",
    "\n",
    "tau = np.linspace(0,4,6)\n",
    "evals = np.zeros(6)\n",
    "\n",
    "d0 = 1 + (mu/deltau) + (deltau/(2*mu))\n",
    "c0 = mu/deltau\n",
    "\n",
    "for i in range(len(tau)):\n",
    "    evals[i] = b(tau[i])\n",
    "\n",
    "e0 = (evals[0]*deltau)/(2*mu)\n",
    "e5 = (evals[5]*(0.5 + (mu/deltau)) + evals[4]*(0.5 - (mu/deltau)))\n",
    "d5 = 0.5 + (mu/deltau)\n",
    "a5 = (mu/deltau) - 0.5"
   ]
  },
  {
   "cell_type": "code",
   "execution_count": 162,
   "id": "1395d2cc-f65f-4eb9-98cd-83edbbe1da32",
   "metadata": {},
   "outputs": [],
   "source": [
    "x = np.array([[d0, -c0, 0, 0, 0, 0], [-a, d, -c, 0, 0, 0], [0, -a, d, -c, 0, 0], [0, 0, -a, d, -c, 0], [0, 0, 0, -a, d, -c], [0, 0, 0, 0, -a5, d5]])"
   ]
  },
  {
   "cell_type": "code",
   "execution_count": 163,
   "id": "3a6c4977-5f00-481a-8b9a-6d73a607662c",
   "metadata": {},
   "outputs": [
    {
     "data": {
      "text/plain": [
       "array([[ 2.41, -0.72,  0.  ,  0.  ,  0.  ,  0.  ],\n",
       "       [-0.52,  2.04, -0.52,  0.  ,  0.  ,  0.  ],\n",
       "       [ 0.  , -0.52,  2.04, -0.52,  0.  ,  0.  ],\n",
       "       [ 0.  ,  0.  , -0.52,  2.04, -0.52,  0.  ],\n",
       "       [ 0.  ,  0.  ,  0.  , -0.52,  2.04, -0.52],\n",
       "       [ 0.  ,  0.  ,  0.  ,  0.  , -0.22,  1.22]])"
      ]
     },
     "metadata": {},
     "output_type": "display_data"
    }
   ],
   "source": [
    "display(np.round(x,2))"
   ]
  },
  {
   "cell_type": "code",
   "execution_count": 164,
   "id": "99769996-33cb-47aa-ac0e-dbe1404444eb",
   "metadata": {},
   "outputs": [
    {
     "data": {
      "text/plain": [
       "array([0. , 0.8, 1.6, 2.4, 3.2, 4. ])"
      ]
     },
     "execution_count": 164,
     "metadata": {},
     "output_type": "execute_result"
    }
   ],
   "source": [
    "tau"
   ]
  },
  {
   "cell_type": "code",
   "execution_count": 165,
   "id": "6dc73ee4-8731-4309-b952-7036cfa8f75c",
   "metadata": {},
   "outputs": [
    {
     "data": {
      "text/plain": [
       "array([0.5, 1.1, 1.7, 2.3, 2.9, 3.5])"
      ]
     },
     "execution_count": 165,
     "metadata": {},
     "output_type": "execute_result"
    }
   ],
   "source": [
    "evals"
   ]
  },
  {
   "cell_type": "code",
   "execution_count": 166,
   "id": "69cdb078-9b00-4c0f-8fbe-2757f765688c",
   "metadata": {},
   "outputs": [],
   "source": [
    "s = np.array([e0, evals[1], evals[2], evals[3], evals[4], e5])"
   ]
  },
  {
   "cell_type": "code",
   "execution_count": 167,
   "id": "7e6af278-f898-4583-b246-a2f8b153ee5d",
   "metadata": {},
   "outputs": [
    {
     "data": {
      "text/plain": [
       "array([0.34641016, 1.1       , 1.7       , 2.3       , 2.9       ,\n",
       "       3.6330127 ])"
      ]
     },
     "execution_count": 167,
     "metadata": {},
     "output_type": "execute_result"
    }
   ],
   "source": [
    "s"
   ]
  },
  {
   "cell_type": "code",
   "execution_count": 168,
   "id": "ff64dd7a-87b7-4130-a7bb-3851a5636c0a",
   "metadata": {},
   "outputs": [],
   "source": [
    "u = np.linalg.solve(x,s)"
   ]
  },
  {
   "cell_type": "code",
   "execution_count": 169,
   "id": "b98eeee5-4f0e-4e1c-8f5a-36c8e0f42984",
   "metadata": {},
   "outputs": [
    {
     "data": {
      "text/plain": [
       "array([0.46977864, 1.09171051, 1.69772655, 2.29937757, 2.89983351,\n",
       "       3.49996979])"
      ]
     },
     "execution_count": 169,
     "metadata": {},
     "output_type": "execute_result"
    }
   ],
   "source": [
    "u"
   ]
  },
  {
   "cell_type": "code",
   "execution_count": 170,
   "id": "5b64bdbe-189d-46a3-ba8c-2c68fb1b0878",
   "metadata": {},
   "outputs": [],
   "source": [
    "# plt.plot(tau, u, '--', color = 'red')\n",
    "# plt.xlabel(r'$\\tau$')\n",
    "# plt.ylabel(r'$u(\\tau)$')"
   ]
  },
  {
   "cell_type": "code",
   "execution_count": 171,
   "id": "d9cc04ef-0e0c-4e45-900b-be6c53e8fb26",
   "metadata": {},
   "outputs": [],
   "source": [
    "upr = np.zeros(6)\n",
    "for i in range(1, len(tau) -1):\n",
    "    upr[i] = (u[i+1] - u[i-1])/(2*deltau)\n",
    "\n",
    "upr[0] = (4*u[1] - 3*u[0] - u[2])/(2*deltau)\n",
    "upr[-1] = (3*u[-1] + u[-3] - 4*u[-2])/(2*deltau)"
   ]
  },
  {
   "cell_type": "code",
   "execution_count": 172,
   "id": "c024c2cc-f26f-4553-9d4d-5a48e34c6153",
   "metadata": {},
   "outputs": [
    {
     "data": {
      "text/plain": [
       "array([0.78736223, 0.76746744, 0.75479191, 0.75131685, 0.75037014,\n",
       "       0.74997056])"
      ]
     },
     "execution_count": 172,
     "metadata": {},
     "output_type": "execute_result"
    }
   ],
   "source": [
    "upr"
   ]
  },
  {
   "cell_type": "code",
   "execution_count": 173,
   "id": "9a3b0b9c-b51e-4b4d-a2ba-f65aeeb45346",
   "metadata": {},
   "outputs": [],
   "source": [
    "upr[0] = (4*u[1] - 3*u[0] - u[2])/(2*deltau)\n",
    "upr[-1] = (3*u[-1] + u[-3] - 4*u[-2])/(2*deltau)\n",
    "flux = 4*(mu**2)*upr"
   ]
  },
  {
   "cell_type": "code",
   "execution_count": 174,
   "id": "cc1bc3e4-8df3-4879-ad2c-9afdc7fb4848",
   "metadata": {},
   "outputs": [
    {
     "data": {
      "text/plain": [
       "Text(0, 0.5, '$F_{mod}/F$')"
      ]
     },
     "execution_count": 174,
     "metadata": {},
     "output_type": "execute_result"
    },
    {
     "data": {
      "image/png": "[encoded data removed]",
      "text/plain": [
       "<Figure size 640x480 with 1 Axes>"
      ]
     },
     "metadata": {},
     "output_type": "display_data"
    }
   ],
   "source": [
    "plt.plot(tau, flux, color='k')\n",
    "plt.xlabel(r'Optical Depth $\\tau$')\n",
    "plt.ylabel(r'$F_{mod}/F$')"
   ]
  },
  {
   "cell_type": "code",
   "execution_count": 124,
   "id": "857d5c60-1d7d-42d9-9691-26d49d93fa6a",
   "metadata": {},
   "outputs": [],
   "source": [
    "N = 6\n",
    "coeffs = np.array([-a, d, -c])\n",
    "A = np.zeros((N, N))\n",
    "svals = np.zeros(N)\n",
    "tauvals = np.linspace(0,0.5,N)\n",
    "dtau = tauvals[1] - tauvals[0]\n",
    "mu = 0.5773502691896257"
   ]
  },
  {
   "cell_type": "code",
   "execution_count": 125,
   "id": "918899b4-b1bb-4147-82de-53b9fa2d24b7",
   "metadata": {},
   "outputs": [],
   "source": [
    "i = 1\n",
    "s = 0\n",
    "while i < N - 1:\n",
    "    A[i, s:s+3] += coeffs\n",
    "    svals[i] = b(tauvals[i])\n",
    "    i += 1\n",
    "    s += 1"
   ]
  },
  {
   "cell_type": "code",
   "execution_count": 126,
   "id": "9ffa541a-f125-473d-87bb-52bb4f016ae1",
   "metadata": {},
   "outputs": [],
   "source": [
    "A[0,0] = d0\n",
    "A[0,1] = -c0\n",
    "A[-1,-1] = d5\n",
    "A[-1,-2] = -a5\n",
    "svals[0] = (b(tau[0])*dtau)/(2*mu)\n",
    "svals[-1] = (b(tau[-1])*(0.5 + (mu/deltau)) + b(tau[-2])*(0.5 - (mu/deltau)))"
   ]
  },
  {
   "cell_type": "code",
   "execution_count": 127,
   "id": "1f8d2937-3eab-4050-941a-d89290625380",
   "metadata": {},
   "outputs": [
    {
     "data": {
      "text/plain": [
       "array([[ 4.06, -2.89,  0.  ,  0.  ,  0.  ,  0.  ],\n",
       "       [-8.33, 17.67, -8.33,  0.  ,  0.  ,  0.  ],\n",
       "       [ 0.  , -8.33, 17.67, -8.33,  0.  ,  0.  ],\n",
       "       [ 0.  ,  0.  , -8.33, 17.67, -8.33,  0.  ],\n",
       "       [ 0.  ,  0.  ,  0.  , -8.33, 17.67, -8.33],\n",
       "       [ 0.  ,  0.  ,  0.  ,  0.  , -2.39,  3.39]])"
      ]
     },
     "execution_count": 127,
     "metadata": {},
     "output_type": "execute_result"
    }
   ],
   "source": [
    "np.round(A,2)"
   ]
  },
  {
   "cell_type": "code",
   "execution_count": 128,
   "id": "a13b1ee9-f7f3-4130-b03d-6ed53ab8b02a",
   "metadata": {},
   "outputs": [
    {
     "data": {
      "text/plain": [
       "array([0.04330127, 0.575     , 0.65      , 0.725     , 0.8       ,\n",
       "       1.6080127 ])"
      ]
     },
     "execution_count": 128,
     "metadata": {},
     "output_type": "execute_result"
    }
   ],
   "source": [
    "svals"
   ]
  }
 ],
 "metadata": {
  "kernelspec": {
   "display_name": "Python 3 (ipykernel)",
   "language": "python",
   "name": "python3"
  },
  "language_info": {
   "codemirror_mode": {
    "name": "ipython",
    "version": 3
   },
   "file_extension": ".py",
   "mimetype": "text/x-python",
   "name": "python",
   "nbconvert_exporter": "python",
   "pygments_lexer": "ipython3",
   "version": "3.13.5"
  }
 },
 "nbformat": 4,
 "nbformat_minor": 5
}
