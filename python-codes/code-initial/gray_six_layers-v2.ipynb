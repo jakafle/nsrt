{
 "cells": [
  {
   "cell_type": "code",
   "execution_count": 7,
   "id": "71d391f4-899a-48c0-b95b-36f7242b4726",
   "metadata": {},
   "outputs": [
    {
     "name": "stdout",
     "output_type": "stream",
     "text": [
      "Solution matrix for mu values: [0.1 0.5 0.9]\n",
      "[[0.29934426 0.43768125 0.58740778]\n",
      " [0.49836066 0.52397112 0.65321486]\n",
      " [0.6207377  0.60821984 0.71998756]\n",
      " [0.71385246 0.69079736 0.78762431]\n",
      " [0.79581967 0.77200677 0.85603419]\n",
      " [0.87360656 0.85209645 0.92513585]]\n"
     ]
    }
   ],
   "source": [
    "import numpy as np\n",
    "\n",
    "def feautrier_method(mu_values):\n",
    "    # Given parameters\n",
    "    deltau = 0.1\n",
    "\n",
    "    # Optical depth grid\n",
    "    tau = np.linspace(0, 0.5, 6)\n",
    "    num_angles = len(mu_values)\n",
    "\n",
    "    # Initialize the solution matrix\n",
    "    u_matrix = np.zeros((len(tau), num_angles))\n",
    "\n",
    "    for j, mu in enumerate(mu_values):\n",
    "        # Precomputed values\n",
    "        mu2 = mu**2\n",
    "        dt2 = deltau**2\n",
    "\n",
    "        a = mu2/dt2\n",
    "        d = 1 + 2*mu2/dt2\n",
    "        c = mu2/dt2\n",
    "\n",
    "        evals = np.zeros(len(tau))\n",
    "\n",
    "        # Given function for b(tau)\n",
    "        def b(tau):\n",
    "            return (3/4) * 1 * (tau + 2/3)\n",
    "\n",
    "        # Calculate values for each tau using the function b(tau)\n",
    "        for i in range(len(tau)):\n",
    "            evals[i] = b(tau[i])\n",
    "\n",
    "        # Additional coefficients\n",
    "        d0 = 1 + (mu/deltau) + (deltau/(2*mu))\n",
    "        c0 = mu/deltau\n",
    "\n",
    "        e0 = (evals[0]*deltau)/(2*mu)\n",
    "        e5 = (evals[5]*(0.5 + (mu/deltau)) + evals[4]*(0.5 - (mu/deltau)))\n",
    "        d5 = 0.5 + (mu/deltau)\n",
    "        a5 = (mu/deltau) - 0.5\n",
    "\n",
    "        # Construct the matrix x\n",
    "        x = np.array([[d0, -c0, 0, 0, 0, 0],\n",
    "                      [-a, d, -c, 0, 0, 0],\n",
    "                      [0, -a, d, -c, 0, 0],\n",
    "                      [0, 0, -a, d, -c, 0],\n",
    "                      [0, 0, 0, -a, d, -c],\n",
    "                      [0, 0, 0, 0, -a5, d5]])\n",
    "\n",
    "        # Construct the vector s\n",
    "        s = np.array([e0, evals[1], evals[2], evals[3], evals[4], e5])\n",
    "\n",
    "        # Solve the system of linear equations\n",
    "        u_matrix[:, j] = np.linalg.solve(x, s)\n",
    "\n",
    "    return u_matrix\n",
    "\n",
    "# Example: For multiple angles\n",
    "mu_values = np.array([0.1, 0.5, 0.9])\n",
    "u_matrix_example = feautrier_method(mu_values)\n",
    "\n",
    "# Print the solution matrix\n",
    "print(\"Solution matrix for mu values:\", mu_values)\n",
    "print(u_matrix_example)"
   ]
  },
  {
   "cell_type": "code",
   "execution_count": 6,
   "id": "32d41ef7-750e-4ea5-a2f0-8651bb4e356e",
   "metadata": {},
   "outputs": [
    {
     "name": "stdout",
     "output_type": "stream",
     "text": [
      "Solution vector for mu = -0.5773502691896257\n",
      "[ 0.03849918  0.02490842 -0.0051851  -0.05493416 -0.12808126 -0.22907079]\n"
     ]
    }
   ],
   "source": [
    "u_example = feautrier_method(-mu)\n",
    "print(\"Solution vector for mu =\", -mu)\n",
    "print(u_example)"
   ]
  }
 ],
 "metadata": {
  "kernelspec": {
   "display_name": "Python 3 (ipykernel)",
   "language": "python",
   "name": "python3"
  },
  "language_info": {
   "codemirror_mode": {
    "name": "ipython",
    "version": 3
   },
   "file_extension": ".py",
   "mimetype": "text/x-python",
   "name": "python",
   "nbconvert_exporter": "python",
   "pygments_lexer": "ipython3",
   "version": "3.13.5"
  }
 },
 "nbformat": 4,
 "nbformat_minor": 5
}
