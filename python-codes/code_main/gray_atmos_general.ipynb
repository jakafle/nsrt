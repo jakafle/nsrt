{
 "cells": [
  {
   "cell_type": "code",
   "execution_count": 1,
   "id": "3ed78831-99a1-4aff-9411-01e9082ec0f0",
   "metadata": {},
   "outputs": [],
   "source": [
    "import numpy as np\n",
    "import matplotlib.pyplot as plt\n",
    "import scienceplots\n",
    "\n",
    "plt.style.use(['science','nature'])"
   ]
  },
  {
   "cell_type": "code",
   "execution_count": 2,
   "id": "7469cf63-8392-4bfb-9f50-737391f56e1e",
   "metadata": {},
   "outputs": [],
   "source": [
    "def b(tau):\n",
    "    return (3/4)*1*(tau + 2/3)"
   ]
  },
  {
   "cell_type": "code",
   "execution_count": 3,
   "id": "857d5c60-1d7d-42d9-9691-26d49d93fa6a",
   "metadata": {},
   "outputs": [],
   "source": [
    "def func(mu,w):\n",
    "\n",
    "    N = 1000\n",
    "    mu = mu\n",
    "    tau = np.linspace(0,20,N)\n",
    "    \n",
    "    dtau = tau[1] - tau[0]\n",
    "    mu2 = mu**2\n",
    "    dt2 = dtau**2\n",
    "    \n",
    "    a = mu2/dt2\n",
    "    d = 1 + (2*mu2)/dt2\n",
    "    c = mu2/dt2\n",
    "    \n",
    "    d5 = 0.5 + (mu/dtau)\n",
    "    a5 = (mu/dtau) - 0.5\n",
    "    d0 = 1 + (mu/dtau) + (dtau/(2*mu))\n",
    "    c0 = mu/dtau\n",
    "    \n",
    "    A = np.zeros((N, N))\n",
    "    svals = np.zeros(N)\n",
    "    coeffs = np.array([-a, d, -c])\n",
    "    \n",
    "    A[0,0] = d0\n",
    "    A[0,1] = -c0\n",
    "    A[-1,-1] = d5\n",
    "    A[-1,-2] = -a5\n",
    "    svals[0] = (b(tau[0])*dtau)/(2*mu)\n",
    "    svals[-1] = (b(tau[-1])*(0.5 + (mu/dtau)) + b(tau[-2])*(0.5 - (mu/dtau)))\n",
    "    \n",
    "    i = 1\n",
    "    s = 0\n",
    "    while i < N - 1:\n",
    "        A[i, s:s+3] += coeffs\n",
    "        svals[i] = b(tau[i])\n",
    "        i += 1\n",
    "        s += 1\n",
    "    \n",
    "    u = np.linalg.solve(A, svals)\n",
    "    \n",
    "    upr = np.zeros(N)\n",
    "    for i in range(1, len(tau) -1):\n",
    "        upr[i] = (u[i+1] - u[i-1])/(2*dtau)\n",
    "    \n",
    "    upr[0] = (4*u[1] - 3*u[0] - u[2])/(2*dtau)\n",
    "    upr[-1] = (3*u[-1] + u[-3] - 4*u[-2])/(2*dtau)\n",
    "    flux = 4*w*(mu**2)*upr\n",
    "    uvals = w*u\n",
    "    \n",
    "    return tau, flux"
   ]
  },
  {
   "cell_type": "code",
   "execution_count": 4,
   "id": "3f24d645-4f75-4b23-9099-dcc80ec91e4a",
   "metadata": {},
   "outputs": [
    {
     "data": {
      "text/plain": [
       "<matplotlib.legend.Legend at 0x7347e992b890>"
      ]
     },
     "execution_count": 4,
     "metadata": {},
     "output_type": "execute_result"
    },
    {
     "data": {
      "image/png": "[encoded data removed]",
      "text/plain": [
       "<Figure size 330x250 with 1 Axes>"
      ]
     },
     "metadata": {},
     "output_type": "display_data"
    }
   ],
   "source": [
    "# m = 1\n",
    "taum1, fluxm1 = func(0.5773502691896257, 1.0)\n",
    "plt.plot(taum1, fluxm1, label='m=1', color='k')\n",
    "plt.xlabel(r'Optical Depth $\\tau$')\n",
    "plt.ylabel(r'$F_{mod}/F$')\n",
    "plt.legend()"
   ]
  },
  {
   "cell_type": "code",
   "execution_count": 5,
   "id": "7376b0ff-d537-4921-b771-3fc9b2572d58",
   "metadata": {},
   "outputs": [],
   "source": [
    "# m = 3\n",
    "# tau1, flux1 = func(0.6612093864662645,0.3607615730481386)\n",
    "# tau2, flux2 = func(0.2386191860831969,0.4679139345726910)\n",
    "# tau3, flux3 = func(0.9324695142031521,0.1713244923791704)\n",
    "\n",
    "tau1, flux1 = func(0.4058451513773972,0.3818300505051189)\n",
    "tau2, flux2 = func(0.7415311855993945,0.2797053914892766)\n",
    "tau3, flux3 = func(0.9491079123427585,0.1294849661688697)"
   ]
  },
  {
   "cell_type": "code",
   "execution_count": 6,
   "id": "a9a7a35e-de2c-4c6c-a5ef-767a164b9a3a",
   "metadata": {},
   "outputs": [],
   "source": [
    "flux = (flux1 + flux2 + flux3)"
   ]
  },
  {
   "cell_type": "code",
   "execution_count": 7,
   "id": "e8822fcd-d729-47f5-88d5-2ec68478537e",
   "metadata": {},
   "outputs": [
    {
     "data": {
      "text/plain": [
       "Text(0, 0.5, 'Model flux $F$')"
      ]
     },
     "execution_count": 7,
     "metadata": {},
     "output_type": "execute_result"
    },
    {
     "data": {
      "image/png": "[encoded data removed]",
      "text/plain": [
       "<Figure size 330x250 with 1 Axes>"
      ]
     },
     "metadata": {},
     "output_type": "display_data"
    }
   ],
   "source": [
    "# plt.plot(tau1, flux1,'--k')\n",
    "# plt.plot(tau2, flux2,'--k')\n",
    "# plt.plot(tau3, flux3,'--k')\n",
    "plt.plot(taum1, fluxm1)\n",
    "plt.plot(tau1, flux)\n",
    "plt.xlabel(r'Optical Depth $\\tau$')\n",
    "plt.ylabel(r'Model flux $F$')"
   ]
  },
  {
   "cell_type": "code",
   "execution_count": 8,
   "id": "3811579d-0779-4eef-bf59-5b5faedf6f9e",
   "metadata": {},
   "outputs": [],
   "source": [
    "# m = 5\n",
    "tau6, flux6 = func(0.1488743389816312,0.2955242247147529)\n",
    "tau7, flux7 = func(0.4333953941292472,0.2692667193099963)\n",
    "tau8, flux8 = func(0.6794095682990244,0.2190863625159820)\n",
    "tau9, flux9 = func(0.8650633666889845,0.1494513491505806)\n",
    "tau10, flux10 = func(0.9739065285171717,0.0666713443086881)"
   ]
  },
  {
   "cell_type": "code",
   "execution_count": 9,
   "id": "f3b605e0-3f36-431b-b2fc-e7aedd8a7134",
   "metadata": {},
   "outputs": [],
   "source": [
    "flux5v = flux6 + flux7 + flux8 + flux9 + flux10"
   ]
  },
  {
   "cell_type": "code",
   "execution_count": 10,
   "id": "a551dc38-3bd6-407f-9e0d-81e9192356dc",
   "metadata": {},
   "outputs": [
    {
     "data": {
      "text/plain": [
       "[<matplotlib.lines.Line2D at 0x7347e9152900>]"
      ]
     },
     "execution_count": 10,
     "metadata": {},
     "output_type": "execute_result"
    },
    {
     "data": {
      "image/png": "[encoded data removed]",
      "text/plain": [
       "<Figure size 330x250 with 1 Axes>"
      ]
     },
     "metadata": {},
     "output_type": "display_data"
    }
   ],
   "source": [
    "plt.plot(tau1,flux5v)"
   ]
  },
  {
   "cell_type": "code",
   "execution_count": 11,
   "id": "8ebf3a1a-d9ac-4339-a724-ab9abea667b5",
   "metadata": {},
   "outputs": [
    {
     "data": {
      "text/plain": [
       "<matplotlib.legend.Legend at 0x7347e98e8a40>"
      ]
     },
     "execution_count": 11,
     "metadata": {},
     "output_type": "execute_result"
    },
    {
     "data": {
      "image/png": "[encoded data removed]",
      "text/plain": [
       "<Figure size 330x250 with 1 Axes>"
      ]
     },
     "metadata": {},
     "output_type": "display_data"
    }
   ],
   "source": [
    "plt.plot(taum1, fluxm1, color='k', linestyle='solid', label='m=1')\n",
    "plt.plot(tau1, flux, color='k', linestyle='dashed', label='m=3')\n",
    "plt.plot(tau1,flux5v, color='k', linestyle='dotted', label='m=5')\n",
    "plt.xlabel(r'Optical Depth $\\tau$')\n",
    "plt.ylabel(r'$F_{mod}/F$')\n",
    "plt.legend()"
   ]
  },
  {
   "cell_type": "code",
   "execution_count": 12,
   "id": "aadc325a-1e49-4cdf-9434-1aad92c99f9a",
   "metadata": {},
   "outputs": [],
   "source": [
    "# m = 5\n",
    "tau12, flux12 = func(0.2011940939974345,0.1984314853271116)\n",
    "tau13, flux13 = func(0.3941513470775634,0.1861610000155622)\n",
    "tau14, flux14 = func(0.5709721726085388,0.1662692058169939)\n",
    "tau15, flux15 = func(0.7244177313601701,0.1395706779261543)\n",
    "tau16, flux16 = func(0.8482065834104272,0.1071592204671719)\n",
    "tau17, flux17 = func(0.9372733924007060,0.0703660474881081)\n",
    "tau18, flux18 = func(0.9879925180204854,0.0307532419961173)"
   ]
  },
  {
   "cell_type": "code",
   "execution_count": 13,
   "id": "e7811ce2-0b7d-4d6b-8d32-7d0dd38005f4",
   "metadata": {},
   "outputs": [],
   "source": [
    "flux7val = flux12 + flux13 + flux14 + flux15 + flux16 + flux17 + flux18"
   ]
  },
  {
   "cell_type": "code",
   "execution_count": 14,
   "id": "802ddf3d-eadf-46df-bfa0-093ac1934766",
   "metadata": {},
   "outputs": [
    {
     "data": {
      "image/png": "[encoded data removed]",
      "text/plain": [
       "<Figure size 330x250 with 1 Axes>"
      ]
     },
     "metadata": {},
     "output_type": "display_data"
    }
   ],
   "source": [
    "# plt.plot(taum1, fluxm1, color='purple', linestyle='dotted', label='m=1')\n",
    "# plt.plot(tau1, flux, color='red', linestyle='dotted', label='m=3')\n",
    "# plt.plot(tau1,flux5v, color='blue', linestyle='dotted', label='m=5')\n",
    "# plt.plot(tau1,flux7val, color='orange', linestyle='dotted', label='m=7')\n",
    "plt.plot(taum1, fluxm1, label='m=1')\n",
    "plt.plot(tau1, flux, label='m=3')\n",
    "plt.plot(tau1,flux5v, label='m=5')\n",
    "plt.plot(tau1,flux7val, label='m=7')\n",
    "plt.xlabel(r'Optical Depth $\\tau$')\n",
    "plt.ylabel(r'$F_{\\rm model}/F$')\n",
    "plt.annotate(\"m: Angular Bins\", (9,1.07))\n",
    "plt.legend()\n",
    "plt.savefig('flux_grey.eps',format='eps', dpi=1000)"
   ]
  }
 ],
 "metadata": {
  "kernelspec": {
   "display_name": "Python 3 (ipykernel)",
   "language": "python",
   "name": "python3"
  },
  "language_info": {
   "codemirror_mode": {
    "name": "ipython",
    "version": 3
   },
   "file_extension": ".py",
   "mimetype": "text/x-python",
   "name": "python",
   "nbconvert_exporter": "python",
   "pygments_lexer": "ipython3",
   "version": "3.12.3"
  }
 },
 "nbformat": 4,
 "nbformat_minor": 5
}
