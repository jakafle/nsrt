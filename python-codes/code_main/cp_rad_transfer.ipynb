{
 "cells": [
  {
   "cell_type": "code",
   "execution_count": 348,
   "id": "b3145997-105b-4260-a473-3ded0d15060e",
   "metadata": {},
   "outputs": [],
   "source": [
    "import numpy as np\n",
    "import matplotlib.pyplot as plt\n",
    "from scipy import constants as cn\n",
    "import cmath\n",
    "import scienceplots\n",
    "\n",
    "plt.style.use(['science','nature'])\n",
    "#plt.style.use('science')\n",
    "#plt.rcParams.update({'figure.dpi': '300'})"
   ]
  },
  {
   "cell_type": "code",
   "execution_count": 349,
   "id": "a30c2e10-e9c1-47c1-9948-cd80c184b9d8",
   "metadata": {},
   "outputs": [],
   "source": [
    "# define the ellipticity\n",
    "def ellipticity(theta,w_c,w_p,w_i):\n",
    "    u = (w_c/w_i)**2\n",
    "    v = (w_p/w_i)**2\n",
    "    b = (u**(1/2)*np.sin(theta)**2)/(2*np.cos(theta)*(1-v))\n",
    "    alpha = -b**(-1)*(1 + (1 + b**(-2))**(1/2))**(-1)\n",
    "    return alpha, b"
   ]
  },
  {
   "cell_type": "code",
   "execution_count": 350,
   "id": "65d69c3e-3331-40e7-9208-f045ca40c641",
   "metadata": {},
   "outputs": [],
   "source": [
    "# constants and variables in CGS units\n",
    "\n",
    "m_e = cn.m_e*1000 # mass of electron in grams\n",
    "c = cn.c * 100 # in cm/s\n",
    "e = cn.e*(1/3.336)*10**10 # in ESU\n",
    "pi = cn.pi\n",
    "evtoerg = 1.6021772e-12\t # ev to erg\n",
    "a_f = 7.29735308e-3\t# fine structure constant\n",
    "h = 6.6261e-27 # planck's constant\n",
    "hbar = 1.0546e-27 # reduced planck's constant\n",
    "sigma_t = 6.6525*10**(-25) # thomson cross-section, cm^2\n",
    "m_p = 1.67*10**(-24) # mass of proton in grams\n",
    "# define the variables\n",
    "n_e = 5*10**21 # number density, cm^-3\n",
    "B = 4.141*10**12 # the magnetic field, in Gauss\n",
    "B_c = 4.141*10**13 # the critical magnetic field, in Gauss\n",
    "\n",
    "w_p = np.sqrt((4*pi*e**2*n_e)/m_e) # the plasma frequency\n",
    "w_c = (w_p**2/10**(-11))**(1/2)  # cyclotron frequency\n",
    "w_i = 10*w_c # the frequency we have chosen"
   ]
  },
  {
   "cell_type": "code",
   "execution_count": 351,
   "id": "2aa5b8c5-1c36-481b-b522-28e3dfea092c",
   "metadata": {},
   "outputs": [
    {
     "name": "stdout",
     "output_type": "stream",
     "text": [
      "3988685442521874.0 1.2613330868325749e+21 1.2613330868325749e+22\n"
     ]
    }
   ],
   "source": [
    "print(w_p, w_c, w_i)"
   ]
  },
  {
   "cell_type": "code",
   "execution_count": 352,
   "id": "5bc92eef-4d2f-4f07-a418-ddac2f33f6a3",
   "metadata": {},
   "outputs": [
    {
     "data": {
      "text/plain": [
       "1.2613330868325749e+22"
      ]
     },
     "execution_count": 352,
     "metadata": {},
     "output_type": "execute_result"
    }
   ],
   "source": [
    "w_i"
   ]
  },
  {
   "cell_type": "code",
   "execution_count": 353,
   "id": "5d04783e-920d-498b-bf94-aaaf06e3c356",
   "metadata": {},
   "outputs": [],
   "source": [
    "u = (w_c/w_i)**2\n",
    "v = (w_p/w_i)**2"
   ]
  },
  {
   "cell_type": "code",
   "execution_count": 354,
   "id": "778476e1-a3d8-48a1-a653-fe75cf18364a",
   "metadata": {},
   "outputs": [],
   "source": [
    "gamma_r = (2/3)*(e**2*w_i)/(m_e*c**3)"
   ]
  },
  {
   "cell_type": "code",
   "execution_count": 355,
   "id": "b2f4a0d3-3c8d-4f1a-8ed1-8679129d5eb1",
   "metadata": {},
   "outputs": [],
   "source": [
    "def pol_vec1(angles):\n",
    "    alpha, b = ellipticity(angles*np.pi/180,w_c,w_p,w_i)\n",
    "    K1 = b*(1 - (1 + b**(-2))**(1/2))\n",
    "    C1 = (1 + K1**2)**(-1/2)\n",
    "    e_z1 = C1*K1*np.sin(angles*np.pi/180)\n",
    "    e_p1 = 2**(-1/2)*C1*np.exp(-1j*np.pi/4)*(K1*np.cos(angles*np.pi/180) + 1)\n",
    "    e_m1 = 2**(-1/2)*C1*np.exp(1j*np.pi/4)*(K1*np.cos(angles*np.pi/180) - 1)\n",
    "\n",
    "    return e_p1, e_m1, e_z1"
   ]
  },
  {
   "cell_type": "code",
   "execution_count": 356,
   "id": "a2a7f7f2-b9b2-4f02-bdc1-26e9177533bb",
   "metadata": {},
   "outputs": [],
   "source": [
    "def pol_vec2(angles):\n",
    "    alpha, b = ellipticity(angles*np.pi/180, w_c, w_p,w_i)\n",
    "    K2 = b*(1 + (1 + b**(-2))**(1/2))\n",
    "    C2 = (1 + K2**2)**(-1/2)\n",
    "    e_z2 = C2*K2*np.sin(angles*np.pi/180)\n",
    "    e_p2 = 2**(-1/2)*C2*np.exp(-1j*np.pi/4)*(K2*np.cos(angles*np.pi/180) + 1)\n",
    "    e_m2 = 2**(-1/2)*C2*np.exp(1j*np.pi/4)*(K2*np.cos(angles*np.pi/180) - 1)\n",
    "\n",
    "    return e_p2, e_m2, e_z2"
   ]
  },
  {
   "cell_type": "code",
   "execution_count": 357,
   "id": "253ddeb4-e6c1-4861-8713-625d9f8cb128",
   "metadata": {},
   "outputs": [
    {
     "name": "stdout",
     "output_type": "stream",
     "text": [
      "90\n"
     ]
    }
   ],
   "source": [
    "#theta = np.arccos(0.5773502691896257)*180/pi\n",
    "theta = 90\n",
    "print(theta)"
   ]
  },
  {
   "cell_type": "code",
   "execution_count": 358,
   "id": "c21bd371-de6c-4018-80b7-988ecd72fac3",
   "metadata": {},
   "outputs": [],
   "source": [
    "# incident angle theta = 30 and outgoing angle theta = 30\n",
    "ei1p30, ei1m30, ei1z30 = pol_vec1(theta)\n",
    "ei2p30, ei2m30, ei2z30 = pol_vec2(theta)"
   ]
  },
  {
   "cell_type": "code",
   "execution_count": 359,
   "id": "494e803f-9155-4e19-9fd8-654ac23254d2",
   "metadata": {},
   "outputs": [],
   "source": [
    "# differential cross-section polarization mode 1 to 1 (30)\n",
    "dsigma1133 = a_f**2*(hbar/m_e*c)**2*np.abs((1/(1 + u**(1/2)))*np.conj(ei1p30)*ei1p30 + (1/(1 - u**(1/2)))*np.conj(ei1m30)*ei1m30 + np.conj(ei1z30)*ei1z30)\n",
    "dsigma1233 = a_f**2*(hbar/m_e*c)**2*np.abs((1/(1 + u**(1/2)))*np.conj(ei2p30)*ei1p30 + (1/(1 - u**(1/2)))*np.conj(ei2m30)*ei1m30 + np.conj(ei2z30)*ei1z30)\n",
    "# differential cross-section polarization mode 2 to 1\n",
    "dsigma2133 = a_f**2*(hbar/m_e*c)**2*np.abs((1/(1 + u**(1/2)))*np.conj(ei1p30)*ei2p30 + (1/(1 - u**(1/2)))*np.conj(ei1m30)*ei2m30 + np.conj(ei1z30)*ei2z30)\n",
    "dsigma2233 = a_f**2*(hbar/m_e*c)**2*np.abs((1/(1 + u**(1/2)))*np.conj(ei2p30)*ei2p30 + (1/(1 - u**(1/2)))*np.conj(ei2m30)*ei2m30 + np.conj(ei2z30)*ei2z30)"
   ]
  },
  {
   "cell_type": "code",
   "execution_count": 360,
   "id": "1ca7ccac-512c-48f4-b8bb-509c173f873b",
   "metadata": {},
   "outputs": [
    {
     "name": "stdout",
     "output_type": "stream",
     "text": [
      "39.27810480024978\n",
      "39.27810480024978\n",
      "6.414601308328359e+16\n",
      "6.4793952609377384e+16\n"
     ]
    }
   ],
   "source": [
    "print(dsigma2133)\n",
    "print(dsigma1233)\n",
    "print(dsigma2233)\n",
    "print(dsigma1133)"
   ]
  },
  {
   "cell_type": "code",
   "execution_count": 361,
   "id": "e7464905-f789-4962-8a61-9b0bb4c4e79a",
   "metadata": {},
   "outputs": [],
   "source": [
    "# scattering cross-section per thomson cross_section\n",
    "\n",
    "scross_130 = ((1/(1+u**(1/2))**2)*np.abs(ei1p30)**2 + (1/((1-u**(1/2))**2 + gamma_r**2))*np.abs(ei1m30)**2 + np.abs(ei1z30)**2)\n",
    "scross_230 = (1/(1+u**(1/2))**2)*np.abs(ei2p30)**2 + (1/((1-u**(1/2))**2 + gamma_r**2))*np.abs(ei2m30)**2 + np.abs(ei2z30)**2"
   ]
  },
  {
   "cell_type": "code",
   "execution_count": 362,
   "id": "5963361a-7011-48ed-ae2c-50f2a3aad1bd",
   "metadata": {},
   "outputs": [
    {
     "name": "stdout",
     "output_type": "stream",
     "text": [
      "1.0257845378766195 1.0\n"
     ]
    }
   ],
   "source": [
    "print(scross_130, scross_230)"
   ]
  },
  {
   "cell_type": "code",
   "execution_count": 363,
   "id": "a4b61c35-1ec3-4980-ae56-c6d143e3eb73",
   "metadata": {},
   "outputs": [],
   "source": [
    "# total scattering crosssection\n",
    "sigma1 = scross_130*sigma_t\n",
    "sigma2 = scross_230*sigma_t"
   ]
  },
  {
   "cell_type": "code",
   "execution_count": 364,
   "id": "7741def6-cdb2-4024-9f23-ad3b2f8f7838",
   "metadata": {},
   "outputs": [],
   "source": [
    "# the scattering opacity\n",
    "k_s1 = sigma1/(0.5*m_p)\n",
    "k_s2 = sigma2/(0.5*m_p)"
   ]
  },
  {
   "cell_type": "code",
   "execution_count": 365,
   "id": "d5486576-163a-47a9-9595-e723b95cc75b",
   "metadata": {},
   "outputs": [],
   "source": [
    "# absorption coefficient\n",
    "k_a1 = (sigma1/gamma_r)/(0.5*m_p)\n",
    "k_a2 = (sigma2/gamma_r)/(0.5*m_p)"
   ]
  },
  {
   "cell_type": "code",
   "execution_count": 366,
   "id": "9b47b62b-fe43-4d59-8d2e-b78ec20bd657",
   "metadata": {},
   "outputs": [],
   "source": [
    "# for polarization mode 1\n",
    "\n",
    "kappa1 = k_a1 + k_s1\n",
    "source1 = 4*pi*(dsigma1133 + dsigma1233)\n",
    "deltaz = 0.1\n",
    "mu = np.cos(theta*np.pi/180)\n",
    "\n",
    "muz2 = mu**2/deltaz**2\n",
    "kterm = kappa1**2 + 2*muz2 - (kappa1**2)*source1"
   ]
  },
  {
   "cell_type": "code",
   "execution_count": 367,
   "id": "f4e287c1-9692-4cc0-8c38-06e2badbbe05",
   "metadata": {},
   "outputs": [],
   "source": [
    "# for polarization mode 2\n",
    "\n",
    "kappa2 = k_a2 + k_s2\n",
    "source2 = 4*pi*(dsigma2133 + dsigma2233)\n",
    "deltaz = 0.1\n",
    "mu = np.cos(theta*np.pi/180)\n",
    "\n",
    "muz2 = mu**2/deltaz**2\n",
    "kterm2 = kappa2**2 + 2*muz2 - (kappa2**2)*source2"
   ]
  },
  {
   "cell_type": "code",
   "execution_count": 368,
   "id": "6a69bc78-91ed-45dd-81c8-2c1fca1df524",
   "metadata": {},
   "outputs": [],
   "source": [
    "# arrays for depth\n",
    "\n",
    "d0 = np.array([(1 + ((deltaz*kappa1)/mu)), -1, 0, 0, 0, 0])\n",
    "d1 = np.array([-muz2, kterm, -muz2, 0, 0, 0])\n",
    "d2 = np.array([0, -muz2, kterm, -muz2, 0, 0])\n",
    "d3 = np.array([0, 0, -muz2, kterm, -muz2, 0])\n",
    "d4 = np.array([0, 0, 0, -muz2, kterm, -muz2])\n",
    "d5 = np.array([0, 0, 0, 0, -mu/(kappa1*deltaz), 1 + (mu/(kappa1*deltaz))])\n",
    "\n",
    "d02 = np.array([(1 + ((deltaz*kappa2)/mu)), -1, 0, 0, 0, 0])\n",
    "d12 = np.array([-muz2, kterm2, -muz2, 0, 0, 0])\n",
    "d22 = np.array([0, -muz2, kterm2, -muz2, 0, 0])\n",
    "d32 = np.array([0, 0, -muz2, kterm2, -muz2, 0])\n",
    "d42 = np.array([0, 0, 0, -muz2, kterm2, -muz2])\n",
    "d52 = np.array([0, 0, 0, 0, -mu/(kappa2*deltaz), 1 + (mu/(kappa2*deltaz))])"
   ]
  },
  {
   "cell_type": "code",
   "execution_count": 369,
   "id": "55ccc701-25a0-4c15-9f64-2a149cefb81f",
   "metadata": {},
   "outputs": [],
   "source": [
    "uvals_coeff2 = np.array([d02, d12, d22, d32, d42, d52])\n",
    "uvals_coeff1 = np.array([d0, d1, d2, d3, d4, d5])"
   ]
  },
  {
   "cell_type": "code",
   "execution_count": 370,
   "id": "cbee60dc-ce7f-40f7-8a52-46b59aba5b59",
   "metadata": {},
   "outputs": [],
   "source": [
    "fhz = w_i/(2*pi)\n",
    "E = 6.6261e-34*fhz*6.242*10**18\n",
    "\n",
    "#Bnu = 2*h*(w_i)**3/(c**2)*(1 - E/86.87)\n",
    "\n",
    "# kappaib1 = Bnu*k_a1\n",
    "# kappaib2 = Bnu*k_a2\n",
    "\n",
    "kappaib1 = 0.1\n",
    "kappaib2 = 0.1"
   ]
  },
  {
   "cell_type": "code",
   "execution_count": 371,
   "id": "e059846c-175a-4f95-af17-cbcae3fa0e41",
   "metadata": {},
   "outputs": [],
   "source": [
    "b1 = np.array([kappaib1, kappaib1, kappaib1, kappaib1, kappaib1, kappaib1])\n",
    "b2 = np.array([kappaib2, kappaib2, kappaib2, kappaib2, kappaib2, kappaib2])"
   ]
  },
  {
   "cell_type": "code",
   "execution_count": 372,
   "id": "a83c3f2b-f9be-462f-bc49-0c479bc3e864",
   "metadata": {},
   "outputs": [],
   "source": [
    "# u1 = np.abs(np.linalg.solve(uvals_coeff1,b1))\n",
    "# u2 = np.abs(np.linalg.solve(uvals_coeff2,b2))\n",
    "u1 = np.linalg.solve(uvals_coeff1,b1)\n",
    "u2 = np.linalg.solve(uvals_coeff2,b2)"
   ]
  },
  {
   "cell_type": "code",
   "execution_count": 373,
   "id": "73b72002-3bd0-42c6-a278-2c1a2e733c3a",
   "metadata": {},
   "outputs": [
    {
     "name": "stdout",
     "output_type": "stream",
     "text": [
      "[ 5.48720941e-18 -9.86272716e-22 -9.86272716e-22 -9.86272716e-22\n",
      " -9.86272716e-22  1.00000000e-01] [ 5.62869457e-18 -1.04827233e-21 -1.04827233e-21 -1.04827233e-21\n",
      " -1.04827233e-21  1.00000000e-01]\n"
     ]
    }
   ],
   "source": [
    "print(u1, u2)"
   ]
  },
  {
   "cell_type": "code",
   "execution_count": 374,
   "id": "fceb4292-0fe1-4798-b1d1-e6b34cfb0973",
   "metadata": {},
   "outputs": [],
   "source": [
    "z = np.array([0, 0.1, 0.2, 0.3, 0.4, 0.5])"
   ]
  },
  {
   "cell_type": "code",
   "execution_count": 375,
   "id": "199ec413-1032-46e2-a65a-0dbe09bbbe33",
   "metadata": {},
   "outputs": [
    {
     "data": {
      "image/png": "[encoded data removed]",
      "text/plain": [
       "<Figure size 330x250 with 1 Axes>"
      ]
     },
     "metadata": {},
     "output_type": "display_data"
    }
   ],
   "source": [
    "plt.scatter(z[0:6], u1[0:6], label='1')\n",
    "plt.scatter(z[0:6], u2[0:6], label='2')\n",
    "plt.xlabel(r'Height ($z$)')\n",
    "plt.ylabel(r'Mean intensity $u$')\n",
    "plt.legend()\n",
    "plt.savefig('mean_int_90.eps',format='eps', dpi=1000)"
   ]
  },
  {
   "cell_type": "code",
   "execution_count": 376,
   "id": "bfa9d9bd-e270-48e6-8c2d-19d1dd11937e",
   "metadata": {},
   "outputs": [
    {
     "data": {
      "text/plain": [
       "array([0.        , 1.11591039, 2.23182078, 3.34773117, 4.46364156,\n",
       "       5.57955195])"
      ]
     },
     "execution_count": 376,
     "metadata": {},
     "output_type": "execute_result"
    }
   ],
   "source": [
    "kappa1*z"
   ]
  },
  {
   "cell_type": "code",
   "execution_count": 377,
   "id": "fd5ac4ab-bed1-46a1-84d8-2b7eeed8dbab",
   "metadata": {},
   "outputs": [
    {
     "data": {
      "text/plain": [
       "array([0.01272817, 0.03047345, 0.03047345, 0.03047345, 0.03047345,\n",
       "       0.        ])"
      ]
     },
     "execution_count": 377,
     "metadata": {},
     "output_type": "execute_result"
    }
   ],
   "source": [
    "(u2 - u1)/(u2 + u1)"
   ]
  },
  {
   "cell_type": "markdown",
   "id": "e6e3e873-e4ce-4b55-90f5-668b8a334ba0",
   "metadata": {},
   "source": [
    "1. when close to zero, both can emerge and resonate\n",
    "2. ordinary mode gets attenuated at high optical depths in theta = 90"
   ]
  }
 ],
 "metadata": {
  "kernelspec": {
   "display_name": "Python 3 (ipykernel)",
   "language": "python",
   "name": "python3"
  },
  "language_info": {
   "codemirror_mode": {
    "name": "ipython",
    "version": 3
   },
   "file_extension": ".py",
   "mimetype": "text/x-python",
   "name": "python",
   "nbconvert_exporter": "python",
   "pygments_lexer": "ipython3",
   "version": "3.12.3"
  }
 },
 "nbformat": 4,
 "nbformat_minor": 5
}
